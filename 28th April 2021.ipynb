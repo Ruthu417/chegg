{
 "cells": [
  {
   "cell_type": "code",
   "execution_count": 1,
   "metadata": {},
   "outputs": [
    {
     "data": {
      "text/html": [
       "<div>\n",
       "<style scoped>\n",
       "    .dataframe tbody tr th:only-of-type {\n",
       "        vertical-align: middle;\n",
       "    }\n",
       "\n",
       "    .dataframe tbody tr th {\n",
       "        vertical-align: top;\n",
       "    }\n",
       "\n",
       "    .dataframe thead th {\n",
       "        text-align: right;\n",
       "    }\n",
       "</style>\n",
       "<table border=\"1\" class=\"dataframe\">\n",
       "  <thead>\n",
       "    <tr style=\"text-align: right;\">\n",
       "      <th></th>\n",
       "      <th>Name</th>\n",
       "      <th>Subject1</th>\n",
       "      <th>Subject2</th>\n",
       "      <th>Subject3</th>\n",
       "      <th>Subject4</th>\n",
       "      <th>Subject5</th>\n",
       "      <th>Subject6</th>\n",
       "      <th>Subject7</th>\n",
       "      <th>Subject8</th>\n",
       "      <th>Subject9</th>\n",
       "      <th>Subject10</th>\n",
       "    </tr>\n",
       "  </thead>\n",
       "  <tbody>\n",
       "    <tr>\n",
       "      <td>0</td>\n",
       "      <td>Aruna</td>\n",
       "      <td>83</td>\n",
       "      <td>92</td>\n",
       "      <td>87</td>\n",
       "      <td>97</td>\n",
       "      <td>88</td>\n",
       "      <td>93</td>\n",
       "      <td>86</td>\n",
       "      <td>89</td>\n",
       "      <td>99</td>\n",
       "      <td>99</td>\n",
       "    </tr>\n",
       "    <tr>\n",
       "      <td>1</td>\n",
       "      <td>Bhanu</td>\n",
       "      <td>100</td>\n",
       "      <td>82</td>\n",
       "      <td>87</td>\n",
       "      <td>100</td>\n",
       "      <td>92</td>\n",
       "      <td>93</td>\n",
       "      <td>81</td>\n",
       "      <td>87</td>\n",
       "      <td>100</td>\n",
       "      <td>99</td>\n",
       "    </tr>\n",
       "    <tr>\n",
       "      <td>2</td>\n",
       "      <td>Chandrika</td>\n",
       "      <td>88</td>\n",
       "      <td>87</td>\n",
       "      <td>94</td>\n",
       "      <td>91</td>\n",
       "      <td>82</td>\n",
       "      <td>85</td>\n",
       "      <td>88</td>\n",
       "      <td>89</td>\n",
       "      <td>87</td>\n",
       "      <td>89</td>\n",
       "    </tr>\n",
       "    <tr>\n",
       "      <td>3</td>\n",
       "      <td>Dhana</td>\n",
       "      <td>82</td>\n",
       "      <td>84</td>\n",
       "      <td>96</td>\n",
       "      <td>86</td>\n",
       "      <td>80</td>\n",
       "      <td>89</td>\n",
       "      <td>86</td>\n",
       "      <td>80</td>\n",
       "      <td>100</td>\n",
       "      <td>93</td>\n",
       "    </tr>\n",
       "    <tr>\n",
       "      <td>4</td>\n",
       "      <td>Elisha</td>\n",
       "      <td>95</td>\n",
       "      <td>91</td>\n",
       "      <td>90</td>\n",
       "      <td>98</td>\n",
       "      <td>87</td>\n",
       "      <td>99</td>\n",
       "      <td>88</td>\n",
       "      <td>88</td>\n",
       "      <td>85</td>\n",
       "      <td>88</td>\n",
       "    </tr>\n",
       "    <tr>\n",
       "      <td>5</td>\n",
       "      <td>Farha</td>\n",
       "      <td>95</td>\n",
       "      <td>93</td>\n",
       "      <td>99</td>\n",
       "      <td>98</td>\n",
       "      <td>92</td>\n",
       "      <td>98</td>\n",
       "      <td>94</td>\n",
       "      <td>100</td>\n",
       "      <td>82</td>\n",
       "      <td>94</td>\n",
       "    </tr>\n",
       "    <tr>\n",
       "      <td>6</td>\n",
       "      <td>Ganga</td>\n",
       "      <td>94</td>\n",
       "      <td>93</td>\n",
       "      <td>92</td>\n",
       "      <td>83</td>\n",
       "      <td>83</td>\n",
       "      <td>88</td>\n",
       "      <td>81</td>\n",
       "      <td>92</td>\n",
       "      <td>89</td>\n",
       "      <td>86</td>\n",
       "    </tr>\n",
       "    <tr>\n",
       "      <td>7</td>\n",
       "      <td>Hanuma</td>\n",
       "      <td>96</td>\n",
       "      <td>94</td>\n",
       "      <td>92</td>\n",
       "      <td>94</td>\n",
       "      <td>88</td>\n",
       "      <td>87</td>\n",
       "      <td>84</td>\n",
       "      <td>97</td>\n",
       "      <td>90</td>\n",
       "      <td>100</td>\n",
       "    </tr>\n",
       "    <tr>\n",
       "      <td>8</td>\n",
       "      <td>Ishu</td>\n",
       "      <td>87</td>\n",
       "      <td>96</td>\n",
       "      <td>98</td>\n",
       "      <td>81</td>\n",
       "      <td>89</td>\n",
       "      <td>91</td>\n",
       "      <td>91</td>\n",
       "      <td>91</td>\n",
       "      <td>83</td>\n",
       "      <td>94</td>\n",
       "    </tr>\n",
       "    <tr>\n",
       "      <td>9</td>\n",
       "      <td>Janaki</td>\n",
       "      <td>88</td>\n",
       "      <td>97</td>\n",
       "      <td>97</td>\n",
       "      <td>96</td>\n",
       "      <td>100</td>\n",
       "      <td>93</td>\n",
       "      <td>80</td>\n",
       "      <td>90</td>\n",
       "      <td>94</td>\n",
       "      <td>99</td>\n",
       "    </tr>\n",
       "  </tbody>\n",
       "</table>\n",
       "</div>"
      ],
      "text/plain": [
       "        Name  Subject1  Subject2  Subject3  Subject4  Subject5  Subject6  \\\n",
       "0      Aruna        83        92        87        97        88        93   \n",
       "1      Bhanu       100        82        87       100        92        93   \n",
       "2  Chandrika        88        87        94        91        82        85   \n",
       "3      Dhana        82        84        96        86        80        89   \n",
       "4     Elisha        95        91        90        98        87        99   \n",
       "5      Farha        95        93        99        98        92        98   \n",
       "6      Ganga        94        93        92        83        83        88   \n",
       "7     Hanuma        96        94        92        94        88        87   \n",
       "8       Ishu        87        96        98        81        89        91   \n",
       "9     Janaki        88        97        97        96       100        93   \n",
       "\n",
       "   Subject7  Subject8  Subject9  Subject10  \n",
       "0        86        89        99         99  \n",
       "1        81        87       100         99  \n",
       "2        88        89        87         89  \n",
       "3        86        80       100         93  \n",
       "4        88        88        85         88  \n",
       "5        94       100        82         94  \n",
       "6        81        92        89         86  \n",
       "7        84        97        90        100  \n",
       "8        91        91        83         94  \n",
       "9        80        90        94         99  "
      ]
     },
     "execution_count": 1,
     "metadata": {},
     "output_type": "execute_result"
    }
   ],
   "source": [
    "import pandas as pd\n",
    "d=pd.read_csv(\"data.csv\")\n",
    "d"
   ]
  },
  {
   "cell_type": "code",
   "execution_count": 10,
   "metadata": {},
   "outputs": [
    {
     "name": "stdout",
     "output_type": "stream",
     "text": [
      "Subject1     90.8\n",
      "Subject2     90.9\n",
      "Subject3     93.2\n",
      "Subject4     92.4\n",
      "Subject5     88.1\n",
      "Subject6     91.6\n",
      "Subject7     85.9\n",
      "Subject8     90.3\n",
      "Subject9     90.9\n",
      "Subject10    94.1\n",
      "dtype: float64\n"
     ]
    }
   ],
   "source": [
    "print(d.mean()) # mean of each column"
   ]
  },
  {
   "cell_type": "code",
   "execution_count": 12,
   "metadata": {},
   "outputs": [
    {
     "name": "stdout",
     "output_type": "stream",
     "text": [
      "Subject1     36.177778\n",
      "Subject2     24.988889\n",
      "Subject3     18.844444\n",
      "Subject4     46.488889\n",
      "Subject5     33.655556\n",
      "Subject6     20.711111\n",
      "Subject7     20.766667\n",
      "Subject8     29.788889\n",
      "Subject9     48.544444\n",
      "Subject10    26.322222\n",
      "dtype: float64\n"
     ]
    }
   ],
   "source": [
    "print(d.var())\n",
    "# variance of each column"
   ]
  },
  {
   "cell_type": "code",
   "execution_count": 9,
   "metadata": {},
   "outputs": [
    {
     "name": "stdout",
     "output_type": "stream",
     "text": [
      "Subject1     6.014797\n",
      "Subject2     4.998889\n",
      "Subject3     4.341019\n",
      "Subject4     6.818276\n",
      "Subject5     5.801341\n",
      "Subject6     4.550946\n",
      "Subject7     4.557046\n",
      "Subject8     5.457920\n",
      "Subject9     6.967384\n",
      "Subject10    5.130519\n",
      "dtype: float64\n"
     ]
    }
   ],
   "source": [
    "print(d.std()) \n",
    "# standard deviation"
   ]
  },
  {
   "cell_type": "code",
   "execution_count": 50,
   "metadata": {},
   "outputs": [
    {
     "name": "stdout",
     "output_type": "stream",
     "text": [
      "        Name  Subject1  Subject2  Subject3  Subject4  Subject5  Subject6  \\\n",
      "0      Aruna      88.0      93.0      87.0      98.0      88.0      93.0   \n",
      "1      Bhanu      95.0       NaN      92.0       NaN      92.0       NaN   \n",
      "2  Chandrika       NaN       NaN       NaN       NaN       NaN       NaN   \n",
      "3      Dhana       NaN       NaN       NaN       NaN       NaN       NaN   \n",
      "4     Elisha       NaN       NaN       NaN       NaN       NaN       NaN   \n",
      "5      Farha       NaN       NaN       NaN       NaN       NaN       NaN   \n",
      "6      Ganga       NaN       NaN       NaN       NaN       NaN       NaN   \n",
      "7     Hanuma       NaN       NaN       NaN       NaN       NaN       NaN   \n",
      "8       Ishu       NaN       NaN       NaN       NaN       NaN       NaN   \n",
      "9     Janaki       NaN       NaN       NaN       NaN       NaN       NaN   \n",
      "\n",
      "   Subject7  Subject8  Subject9  Subject10  \n",
      "0      81.0      89.0     100.0       99.0  \n",
      "1      86.0       NaN       NaN        NaN  \n",
      "2      88.0       NaN       NaN        NaN  \n",
      "3       NaN       NaN       NaN        NaN  \n",
      "4       NaN       NaN       NaN        NaN  \n",
      "5       NaN       NaN       NaN        NaN  \n",
      "6       NaN       NaN       NaN        NaN  \n",
      "7       NaN       NaN       NaN        NaN  \n",
      "8       NaN       NaN       NaN        NaN  \n",
      "9       NaN       NaN       NaN        NaN  \n"
     ]
    }
   ],
   "source": [
    "print(d.mode())\n",
    "#finding mode"
   ]
  },
  {
   "cell_type": "code",
   "execution_count": 14,
   "metadata": {},
   "outputs": [],
   "source": [
    "import matplotlib.pyplot as plt"
   ]
  },
  {
   "cell_type": "code",
   "execution_count": 49,
   "metadata": {},
   "outputs": [
    {
     "name": "stdout",
     "output_type": "stream",
     "text": [
      "0    92\n",
      "1    82\n",
      "2    87\n",
      "3    84\n",
      "4    91\n",
      "5    93\n",
      "6    93\n",
      "7    94\n",
      "8    96\n",
      "9    97\n",
      "Name: Subject2, dtype: int64 0    87\n",
      "1    87\n",
      "2    94\n",
      "3    96\n",
      "4    90\n",
      "5    99\n",
      "6    92\n",
      "7    92\n",
      "8    98\n",
      "9    97\n",
      "Name: Subject3, dtype: int64\n"
     ]
    },
    {
     "data": {
      "image/png": "[encoded data removed]",
      "text/plain": [
       "<Figure size 432x288 with 1 Axes>"
      ]
     },
     "metadata": {
      "needs_background": "light"
     },
     "output_type": "display_data"
    }
   ],
   "source": [
    "e,f=d['Subject2'],d['Subject3']\n",
    "print(e,f)\n",
    "plt.title(\"Line plot\")\n",
    "plt.xlabel(\"Subject1\")\n",
    "plt.ylabel(\"Subject2\")\n",
    "plt.plot(e,f)\n",
    "plt.show()\n",
    "# creating lineplot"
   ]
  },
  {
   "cell_type": "code",
   "execution_count": 48,
   "metadata": {},
   "outputs": [
    {
     "data": {
      "image/png": "[encoded data removed]",
      "text/plain": [
       "<Figure size 432x288 with 1 Axes>"
      ]
     },
     "metadata": {
      "needs_background": "light"
     },
     "output_type": "display_data"
    }
   ],
   "source": [
    "plt.scatter(e,f) \n",
    "plt.show()\n",
    "# scatterplot"
   ]
  },
  {
   "cell_type": "code",
   "execution_count": 46,
   "metadata": {},
   "outputs": [
    {
     "data": {
      "image/png": "[encoded data removed]",
      "text/plain": [
       "<Figure size 720x504 with 1 Axes>"
      ]
     },
     "metadata": {
      "needs_background": "light"
     },
     "output_type": "display_data"
    }
   ],
   "source": [
    "# ploting boxplot\n",
    "data=(e,f)\n",
    "fig=plt.figure(figsize=(10,7))\n",
    "plt.boxplot(data)\n",
    "plt.show()\n",
    "# boxplot"
   ]
  },
  {
   "cell_type": "code",
   "execution_count": 45,
   "metadata": {},
   "outputs": [
    {
     "data": {
      "image/png": "[encoded data removed]",
      "text/plain": [
       "<Figure size 432x288 with 1 Axes>"
      ]
     },
     "metadata": {
      "needs_background": "light"
     },
     "output_type": "display_data"
    }
   ],
   "source": [
    "#creating subplot\n",
    "g,h,i=d['Subject3'],d['Subject4'],d['Subject5']\n",
    "#print(g,h,i)\n",
    "plt.subplot(1,2,1)\n",
    "plt.plot(g,h,i)\n",
    "plt.show()\n",
    "# subplot for 3 columns"
   ]
  },
  {
   "cell_type": "code",
   "execution_count": null,
   "metadata": {},
   "outputs": [],
   "source": []
  }
 ],
 "metadata": {
  "kernelspec": {
   "display_name": "Python 3",
   "language": "python",
   "name": "python3"
  },
  "language_info": {
   "codemirror_mode": {
    "name": "ipython",
    "version": 3
   },
   "file_extension": ".py",
   "mimetype": "text/x-python",
   "name": "python",
   "nbconvert_exporter": "python",
   "pygments_lexer": "ipython3",
   "version": "3.7.4"
  }
 },
 "nbformat": 4,
 "nbformat_minor": 2
}
